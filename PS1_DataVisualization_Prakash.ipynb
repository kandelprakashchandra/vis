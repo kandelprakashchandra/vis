{
  "nbformat": 4,
  "nbformat_minor": 0,
  "metadata": {
    "colab": {
      "provenance": [],
      "toc_visible": true,
      "authorship_tag": "ABX9TyPlsbEU5VZcu+hz9EbpFPoz",
      "include_colab_link": true
    },
    "kernelspec": {
      "name": "python3",
      "display_name": "Python 3"
    },
    "language_info": {
      "name": "python"
    }
  },
  "cells": [
    {
      "cell_type": "markdown",
      "metadata": {
        "id": "view-in-github",
        "colab_type": "text"
      },
      "source": [
        "<a href=\"https://colab.research.google.com/github/kandelprakashchandra/vis/blob/main/PS1_DataVisualization_Prakash.ipynb\" target=\"_parent\"><img src=\"https://colab.research.google.com/assets/colab-badge.svg\" alt=\"Open In Colab\"/></a>"
      ]
    },
    {
      "cell_type": "markdown",
      "source": [
        "**PS_1**\n",
        "\n",
        "**Prakash Kandel**\n",
        "\n",
        "**Course:** 56:834:653:01 DATA VISUALIZATION\n",
        "\n",
        "Spring 2023\n",
        "\n",
        "**Instructor**: Adam Okulicz-Kozaryn"
      ],
      "metadata": {
        "id": "uX6Ppl4PBjES"
      }
    },
    {
      "cell_type": "code",
      "execution_count": 346,
      "metadata": {
        "id": "yyfLJ2HF_bO8"
      },
      "outputs": [],
      "source": [
        "from statistics import *\n",
        "import pylab as plt\n",
        "import pandas as pd\n",
        "import pandas_datareader as pdr\n",
        "import datetime\n",
        "from pandas_datareader import wb\n",
        "import sys\n",
        "import os \n",
        "import re\n",
        "import urllib  #weird, guess need to have os and pandas imported for this to work                                                  \n",
        "import string #for annotating pouints in scatter                                                                           \n",
        "import webbrowser                                                                      \n",
        "import folium as f                                                                     \n",
        "from folium.plugins import MarkerCluster, HeatMap                                                                                                                            \n",
        "from geopy.geocoders import Nominatim\n",
        "import json\n",
        "import numpy\n",
        "import openpyxl\n",
        "from pathlib import Path\n"
      ]
    },
    {
      "cell_type": "markdown",
      "source": [
        "Data Source:\n",
        "<a href=\"https://hdr.undp.org/content/2022-global-multidimensional-poverty-index-mpi#/indicies/MPI\"> 2022 Global Multidimensional Poverty Index (MPI)</a>"
      ],
      "metadata": {
        "id": "MDqDoTa2eXcT"
      }
    },
    {
      "cell_type": "markdown",
      "source": [
        "The dataset is about measurement of multidimensional poverty based on health, education, and standard of living in countries around the world. \n",
        "\n",
        "**What Is The Multidimensional Poverty Measure?**\n",
        "\n",
        "An index that captures the percentage of households in a country deprived along three dimensions of well-being – monetary poverty, education, and basic infrastructure services – to provide a more complete picture of poverty. A means to capture the complexity of poverty that considers multiple dimensions of well-being beyond just monetary poverty.\n",
        "\n",
        "(Source: Multidimensional Poverty Measure, World Bank)"
      ],
      "metadata": {
        "id": "_sQou3HBUxOE"
      }
    },
    {
      "cell_type": "code",
      "source": [
        "dir(sys)"
      ],
      "metadata": {
        "id": "KYfZD-SMNOH-"
      },
      "execution_count": null,
      "outputs": []
    },
    {
      "cell_type": "code",
      "source": [
        "# Multi Dimensional Poverty Database 2022\n",
        "urllib.request.urlretrieve(\"https://docs.google.com/uc?id=1rA6uE63JeuNfC5CVsoSWF2qFtiPfrO5z&export=download\", \"2022_Multi_Dimensional_Poverty_ Dataset.xlsx\")\n",
        "\n",
        "df.head()\n"
      ],
      "metadata": {
        "id": "ZN2vwexHAJa2"
      },
      "execution_count": null,
      "outputs": []
    },
    {
      "cell_type": "code",
      "source": [
        "df = pd.read_excel('/content/2022_Multi_Dimensional_Poverty_ Dataset.xlsx', \n",
        "                   sheet_name='Table 1',\n",
        "                   header=3, \n",
        "                   usecols='A,C,E,G,I,K,M,O,Q,S,U,W,Y,AA,AC') # using only columns that have meaningful data\n",
        "df.head()"
      ],
      "metadata": {
        "id": "bYUltn2ehhqj"
      },
      "execution_count": null,
      "outputs": []
    },
    {
      "cell_type": "code",
      "source": [
        "df= df.drop(labels=1, axis=0) #dropped the 'Observation 1' as it did not contaon relevant data \n",
        "\n",
        "df.head()\n"
      ],
      "metadata": {
        "id": "s97esR6tFrTF"
      },
      "execution_count": null,
      "outputs": []
    },
    {
      "cell_type": "code",
      "source": [
        "df.tail(50) #observing the last 50 rows in order to see which rows are not required as part of the cleaning"
      ],
      "metadata": {
        "id": "bzjPmkr52auC"
      },
      "execution_count": null,
      "outputs": []
    },
    {
      "cell_type": "code",
      "source": [
        "df.drop(df.index[113:161], inplace=True) # dropped rows that did not contain data but notes\n",
        " \n",
        "df.tail() # to ensure the lowest portion contains the nam eof countries only"
      ],
      "metadata": {
        "id": "whDED0x-3DMf"
      },
      "execution_count": null,
      "outputs": []
    },
    {
      "cell_type": "code",
      "source": [
        "list(df) # list of variables for renaming purpose"
      ],
      "metadata": {
        "colab": {
          "base_uri": "https://localhost:8080/"
        },
        "id": "CxcXGWEkDBMf",
        "outputId": "d3c08204-af5b-4c65-db41-a351783c5ad4"
      },
      "execution_count": 367,
      "outputs": [
        {
          "output_type": "execute_result",
          "data": {
            "text/plain": [
              "['Unnamed: 0',\n",
              " 'Year and survey',\n",
              " 'Unnamed: 4',\n",
              " 'Headcount',\n",
              " 'Intensity of deprivation',\n",
              " 'Number of poor (year of the survey)',\n",
              " 'Number of poor (2020)',\n",
              " 'Inequality among the poor',\n",
              " 'Population in severe multidimensional poverty ',\n",
              " 'Unnamed: 18',\n",
              " 'Health',\n",
              " 'Education',\n",
              " 'Standard of living',\n",
              " 'National poverty line',\n",
              " 'PPP $1.90 a day']"
            ]
          },
          "metadata": {},
          "execution_count": 367
        }
      ]
    },
    {
      "cell_type": "code",
      "source": [
        "# renaming the columns\n",
        "\n",
        "df.rename(columns = {'Unnamed: 0':'country', \n",
        "                     'Year and survey': 'Year and survey (2010-21)',\n",
        "                     'Unnamed: 4' : 'Value of MPI', \n",
        "                     'Headcount': 'Headcount (%)',\n",
        "                     'Intensity of deprivation' : 'Intensity of deprivation (%)', \n",
        "                     'Number of poor (year of the survey)' : 'Number of poor in 000s(year of the survey)',\n",
        "                     'Number of poor (2020)' : 'Number of poor in 000s (2020)',\n",
        "                     'Inequality among the poor' : 'Inequality among the poor (%)',\n",
        "                     'Population in severe multidimensional poverty': 'Population in severe multidimensional poverty(%)',\n",
        "                     'Unnamed: 18': 'Population vulnerable to multidimensional poverty (%)',\n",
        "                     'Health':'Contribution of Health in MPI (%)',\n",
        "                     'Education': 'Contribution of Education in MPI (%)',\n",
        "                     'Standard of living': 'Contribution of Standard of Living in MPI (%)',\n",
        "                     'National poverty line': 'National poverty line(2009-2021)',\n",
        "                     'PPP $1.90 a day': 'PPP $1.90 a day (2009-2021)'}, inplace = True)\n",
        "\n",
        "# Here 'MPI' referes to Multidimensional Poverty Index'.\n"
      ],
      "metadata": {
        "id": "ycpSsg7CAWqB"
      },
      "execution_count": 371,
      "outputs": []
    },
    {
      "cell_type": "code",
      "source": [
        "df = df.drop(labels=0, axis=0) # removed the 'Observation Row 0\" as it did not have meaningful data\n",
        "df"
      ],
      "metadata": {
        "colab": {
          "base_uri": "https://localhost:8080/",
          "height": 679
        },
        "id": "JBQ1Uj8GP_bo",
        "outputId": "1c48c7d7-f4a4-4a79-e1d3-6a746b3711cc"
      },
      "execution_count": null,
      "outputs": [
        {
          "output_type": "execute_result",
          "data": {
            "text/plain": [
              "                 country Year and survey (2010-21) Value of MPI Headcount (%)  \\\n",
              "2            Afghanistan               2015/2016 D     0.271721     55.910242   \n",
              "3                Albania               2017/2018 D     0.002748      0.703561   \n",
              "4                Algeria               2018/2019 M     0.005409      1.380835   \n",
              "5                 Angola               2015/2016 D     0.282435      51.10411   \n",
              "6              Argentina               2019/2020 M     0.001469      0.432323   \n",
              "..                   ...                       ...          ...           ...   \n",
              "109          South Sudan                    2010 M     0.580157     91.862887   \n",
              "110                Sudan                    2014 M      0.27944     52.328044   \n",
              "111  Trinidad and Tobago                    2011 M     0.002418      0.636561   \n",
              "112              Ukraine                    2012 M      0.00084      0.244237   \n",
              "113                Yemen                    2013 D     0.245166     48.466429   \n",
              "\n",
              "    Intensity of deprivation (%) Number of poor in 000s(year of the survey)  \\\n",
              "2                       48.59955                               19365.187015   \n",
              "3                      39.056706                                   20.24155   \n",
              "4                       39.17263                                 589.690668   \n",
              "5                      55.266601                               14899.273606   \n",
              "6                       33.98602                                  194.70126   \n",
              "..                           ...                                        ...   \n",
              "109                    63.154715                                8923.945762   \n",
              "110                      53.4015                               19363.074392   \n",
              "111                    37.984198                                   9.039289   \n",
              "112                    34.410454                                 110.898957   \n",
              "113                      50.5848                               13078.182111   \n",
              "\n",
              "    Number of poor in 000s (2020) Inequality among the poor (%)  \\\n",
              "2                     21789.46795                      0.020276   \n",
              "3                        20.17004                            ..   \n",
              "4                      599.995812                      0.006748   \n",
              "5                    17083.330417                      0.023988   \n",
              "6                       194.70126                            ..   \n",
              "..                            ...                           ...   \n",
              "109                   9743.186339                      0.023142   \n",
              "110                  23254.837148                       0.02348   \n",
              "111                      9.663927                            ..   \n",
              "112                    107.243799                            ..   \n",
              "113                  15646.924162                      0.021178   \n",
              "\n",
              "    Population in severe multidimensional poverty   \\\n",
              "2                                        24.861951   \n",
              "3                                         0.067062   \n",
              "4                                         0.202808   \n",
              "5                                        32.457551   \n",
              "6                                         0.005121   \n",
              "..                                             ...   \n",
              "109                                      74.343175   \n",
              "110                                      30.878279   \n",
              "111                                       0.099323   \n",
              "112                                            0.0   \n",
              "113                                      24.349764   \n",
              "\n",
              "    Population vulnerable to multidimensional poverty (%)  \\\n",
              "2                                            18.137625      \n",
              "3                                              5.04032      \n",
              "4                                             3.607168      \n",
              "5                                            15.542856      \n",
              "6                                             1.647459      \n",
              "..                                                 ...      \n",
              "109                                           6.336535      \n",
              "110                                          17.660528      \n",
              "111                                           3.681444      \n",
              "112                                           0.418627      \n",
              "113                                          22.285696      \n",
              "\n",
              "    Contribution of Health in MPI (%)  Contribution of Education in MPI (%)  \\\n",
              "2                           10.009383                             44.988769   \n",
              "3                           28.259981                             55.054617   \n",
              "4                           31.214354                             49.301260   \n",
              "5                           21.164586                             32.050019   \n",
              "6                            69.67954                             21.381985   \n",
              "..                                ...                                   ...   \n",
              "109                         13.987631                             39.562219   \n",
              "110                         21.060756                             29.151100   \n",
              "111                         45.490643                             34.025756   \n",
              "112                         60.483237                             28.359218   \n",
              "113                          28.95319                             30.414853   \n",
              "\n",
              "     Contribution of Standard of Living in MPI (%)  \\\n",
              "2                                        45.001850   \n",
              "3                                        16.685401   \n",
              "4                                        19.484380   \n",
              "5                                        46.785396   \n",
              "6                                         8.938479   \n",
              "..                                             ...   \n",
              "109                                      46.450150   \n",
              "110                                      49.788141   \n",
              "111                                      20.483601   \n",
              "112                                      11.157545   \n",
              "113                                      40.631957   \n",
              "\n",
              "    National poverty line(2009-2021) PPP $1.90 a day (2009-2021)  \n",
              "2                               54.5                          ..  \n",
              "3                               21.8                         0.0  \n",
              "4                                5.5                         0.4  \n",
              "5                               32.3                        49.9  \n",
              "6                               42.0                         1.6  \n",
              "..                               ...                         ...  \n",
              "109                             82.3                        76.5  \n",
              "110                             46.5                        12.2  \n",
              "111                               ..                          ..  \n",
              "112                              1.1                         0.0  \n",
              "113                             48.6                        18.3  \n",
              "\n",
              "[112 rows x 15 columns]"
            ],
            "text/html": [
              "\n",
              "  <div id=\"df-c5bd15f3-17ca-4370-a3a5-8f49d4f30dc2\">\n",
              "    <div class=\"colab-df-container\">\n",
              "      <div>\n",
              "<style scoped>\n",
              "    .dataframe tbody tr th:only-of-type {\n",
              "        vertical-align: middle;\n",
              "    }\n",
              "\n",
              "    .dataframe tbody tr th {\n",
              "        vertical-align: top;\n",
              "    }\n",
              "\n",
              "    .dataframe thead th {\n",
              "        text-align: right;\n",
              "    }\n",
              "</style>\n",
              "<table border=\"1\" class=\"dataframe\">\n",
              "  <thead>\n",
              "    <tr style=\"text-align: right;\">\n",
              "      <th></th>\n",
              "      <th>country</th>\n",
              "      <th>Year and survey (2010-21)</th>\n",
              "      <th>Value of MPI</th>\n",
              "      <th>Headcount (%)</th>\n",
              "      <th>Intensity of deprivation (%)</th>\n",
              "      <th>Number of poor in 000s(year of the survey)</th>\n",
              "      <th>Number of poor in 000s (2020)</th>\n",
              "      <th>Inequality among the poor (%)</th>\n",
              "      <th>Population in severe multidimensional poverty</th>\n",
              "      <th>Population vulnerable to multidimensional poverty (%)</th>\n",
              "      <th>Contribution of Health in MPI (%)</th>\n",
              "      <th>Contribution of Education in MPI (%)</th>\n",
              "      <th>Contribution of Standard of Living in MPI (%)</th>\n",
              "      <th>National poverty line(2009-2021)</th>\n",
              "      <th>PPP $1.90 a day (2009-2021)</th>\n",
              "    </tr>\n",
              "  </thead>\n",
              "  <tbody>\n",
              "    <tr>\n",
              "      <th>2</th>\n",
              "      <td>Afghanistan</td>\n",
              "      <td>2015/2016 D</td>\n",
              "      <td>0.271721</td>\n",
              "      <td>55.910242</td>\n",
              "      <td>48.59955</td>\n",
              "      <td>19365.187015</td>\n",
              "      <td>21789.46795</td>\n",
              "      <td>0.020276</td>\n",
              "      <td>24.861951</td>\n",
              "      <td>18.137625</td>\n",
              "      <td>10.009383</td>\n",
              "      <td>44.988769</td>\n",
              "      <td>45.001850</td>\n",
              "      <td>54.5</td>\n",
              "      <td>..</td>\n",
              "    </tr>\n",
              "    <tr>\n",
              "      <th>3</th>\n",
              "      <td>Albania</td>\n",
              "      <td>2017/2018 D</td>\n",
              "      <td>0.002748</td>\n",
              "      <td>0.703561</td>\n",
              "      <td>39.056706</td>\n",
              "      <td>20.24155</td>\n",
              "      <td>20.17004</td>\n",
              "      <td>..</td>\n",
              "      <td>0.067062</td>\n",
              "      <td>5.04032</td>\n",
              "      <td>28.259981</td>\n",
              "      <td>55.054617</td>\n",
              "      <td>16.685401</td>\n",
              "      <td>21.8</td>\n",
              "      <td>0.0</td>\n",
              "    </tr>\n",
              "    <tr>\n",
              "      <th>4</th>\n",
              "      <td>Algeria</td>\n",
              "      <td>2018/2019 M</td>\n",
              "      <td>0.005409</td>\n",
              "      <td>1.380835</td>\n",
              "      <td>39.17263</td>\n",
              "      <td>589.690668</td>\n",
              "      <td>599.995812</td>\n",
              "      <td>0.006748</td>\n",
              "      <td>0.202808</td>\n",
              "      <td>3.607168</td>\n",
              "      <td>31.214354</td>\n",
              "      <td>49.301260</td>\n",
              "      <td>19.484380</td>\n",
              "      <td>5.5</td>\n",
              "      <td>0.4</td>\n",
              "    </tr>\n",
              "    <tr>\n",
              "      <th>5</th>\n",
              "      <td>Angola</td>\n",
              "      <td>2015/2016 D</td>\n",
              "      <td>0.282435</td>\n",
              "      <td>51.10411</td>\n",
              "      <td>55.266601</td>\n",
              "      <td>14899.273606</td>\n",
              "      <td>17083.330417</td>\n",
              "      <td>0.023988</td>\n",
              "      <td>32.457551</td>\n",
              "      <td>15.542856</td>\n",
              "      <td>21.164586</td>\n",
              "      <td>32.050019</td>\n",
              "      <td>46.785396</td>\n",
              "      <td>32.3</td>\n",
              "      <td>49.9</td>\n",
              "    </tr>\n",
              "    <tr>\n",
              "      <th>6</th>\n",
              "      <td>Argentina</td>\n",
              "      <td>2019/2020 M</td>\n",
              "      <td>0.001469</td>\n",
              "      <td>0.432323</td>\n",
              "      <td>33.98602</td>\n",
              "      <td>194.70126</td>\n",
              "      <td>194.70126</td>\n",
              "      <td>..</td>\n",
              "      <td>0.005121</td>\n",
              "      <td>1.647459</td>\n",
              "      <td>69.67954</td>\n",
              "      <td>21.381985</td>\n",
              "      <td>8.938479</td>\n",
              "      <td>42.0</td>\n",
              "      <td>1.6</td>\n",
              "    </tr>\n",
              "    <tr>\n",
              "      <th>...</th>\n",
              "      <td>...</td>\n",
              "      <td>...</td>\n",
              "      <td>...</td>\n",
              "      <td>...</td>\n",
              "      <td>...</td>\n",
              "      <td>...</td>\n",
              "      <td>...</td>\n",
              "      <td>...</td>\n",
              "      <td>...</td>\n",
              "      <td>...</td>\n",
              "      <td>...</td>\n",
              "      <td>...</td>\n",
              "      <td>...</td>\n",
              "      <td>...</td>\n",
              "      <td>...</td>\n",
              "    </tr>\n",
              "    <tr>\n",
              "      <th>109</th>\n",
              "      <td>South Sudan</td>\n",
              "      <td>2010 M</td>\n",
              "      <td>0.580157</td>\n",
              "      <td>91.862887</td>\n",
              "      <td>63.154715</td>\n",
              "      <td>8923.945762</td>\n",
              "      <td>9743.186339</td>\n",
              "      <td>0.023142</td>\n",
              "      <td>74.343175</td>\n",
              "      <td>6.336535</td>\n",
              "      <td>13.987631</td>\n",
              "      <td>39.562219</td>\n",
              "      <td>46.450150</td>\n",
              "      <td>82.3</td>\n",
              "      <td>76.5</td>\n",
              "    </tr>\n",
              "    <tr>\n",
              "      <th>110</th>\n",
              "      <td>Sudan</td>\n",
              "      <td>2014 M</td>\n",
              "      <td>0.27944</td>\n",
              "      <td>52.328044</td>\n",
              "      <td>53.4015</td>\n",
              "      <td>19363.074392</td>\n",
              "      <td>23254.837148</td>\n",
              "      <td>0.02348</td>\n",
              "      <td>30.878279</td>\n",
              "      <td>17.660528</td>\n",
              "      <td>21.060756</td>\n",
              "      <td>29.151100</td>\n",
              "      <td>49.788141</td>\n",
              "      <td>46.5</td>\n",
              "      <td>12.2</td>\n",
              "    </tr>\n",
              "    <tr>\n",
              "      <th>111</th>\n",
              "      <td>Trinidad and Tobago</td>\n",
              "      <td>2011 M</td>\n",
              "      <td>0.002418</td>\n",
              "      <td>0.636561</td>\n",
              "      <td>37.984198</td>\n",
              "      <td>9.039289</td>\n",
              "      <td>9.663927</td>\n",
              "      <td>..</td>\n",
              "      <td>0.099323</td>\n",
              "      <td>3.681444</td>\n",
              "      <td>45.490643</td>\n",
              "      <td>34.025756</td>\n",
              "      <td>20.483601</td>\n",
              "      <td>..</td>\n",
              "      <td>..</td>\n",
              "    </tr>\n",
              "    <tr>\n",
              "      <th>112</th>\n",
              "      <td>Ukraine</td>\n",
              "      <td>2012 M</td>\n",
              "      <td>0.00084</td>\n",
              "      <td>0.244237</td>\n",
              "      <td>34.410454</td>\n",
              "      <td>110.898957</td>\n",
              "      <td>107.243799</td>\n",
              "      <td>..</td>\n",
              "      <td>0.0</td>\n",
              "      <td>0.418627</td>\n",
              "      <td>60.483237</td>\n",
              "      <td>28.359218</td>\n",
              "      <td>11.157545</td>\n",
              "      <td>1.1</td>\n",
              "      <td>0.0</td>\n",
              "    </tr>\n",
              "    <tr>\n",
              "      <th>113</th>\n",
              "      <td>Yemen</td>\n",
              "      <td>2013 D</td>\n",
              "      <td>0.245166</td>\n",
              "      <td>48.466429</td>\n",
              "      <td>50.5848</td>\n",
              "      <td>13078.182111</td>\n",
              "      <td>15646.924162</td>\n",
              "      <td>0.021178</td>\n",
              "      <td>24.349764</td>\n",
              "      <td>22.285696</td>\n",
              "      <td>28.95319</td>\n",
              "      <td>30.414853</td>\n",
              "      <td>40.631957</td>\n",
              "      <td>48.6</td>\n",
              "      <td>18.3</td>\n",
              "    </tr>\n",
              "  </tbody>\n",
              "</table>\n",
              "<p>112 rows × 15 columns</p>\n",
              "</div>\n",
              "      <button class=\"colab-df-convert\" onclick=\"convertToInteractive('df-c5bd15f3-17ca-4370-a3a5-8f49d4f30dc2')\"\n",
              "              title=\"Convert this dataframe to an interactive table.\"\n",
              "              style=\"display:none;\">\n",
              "        \n",
              "  <svg xmlns=\"http://www.w3.org/2000/svg\" height=\"24px\"viewBox=\"0 0 24 24\"\n",
              "       width=\"24px\">\n",
              "    <path d=\"M0 0h24v24H0V0z\" fill=\"none\"/>\n",
              "    <path d=\"M18.56 5.44l.94 2.06.94-2.06 2.06-.94-2.06-.94-.94-2.06-.94 2.06-2.06.94zm-11 1L8.5 8.5l.94-2.06 2.06-.94-2.06-.94L8.5 2.5l-.94 2.06-2.06.94zm10 10l.94 2.06.94-2.06 2.06-.94-2.06-.94-.94-2.06-.94 2.06-2.06.94z\"/><path d=\"M17.41 7.96l-1.37-1.37c-.4-.4-.92-.59-1.43-.59-.52 0-1.04.2-1.43.59L10.3 9.45l-7.72 7.72c-.78.78-.78 2.05 0 2.83L4 21.41c.39.39.9.59 1.41.59.51 0 1.02-.2 1.41-.59l7.78-7.78 2.81-2.81c.8-.78.8-2.07 0-2.86zM5.41 20L4 18.59l7.72-7.72 1.47 1.35L5.41 20z\"/>\n",
              "  </svg>\n",
              "      </button>\n",
              "      \n",
              "  <style>\n",
              "    .colab-df-container {\n",
              "      display:flex;\n",
              "      flex-wrap:wrap;\n",
              "      gap: 12px;\n",
              "    }\n",
              "\n",
              "    .colab-df-convert {\n",
              "      background-color: #E8F0FE;\n",
              "      border: none;\n",
              "      border-radius: 50%;\n",
              "      cursor: pointer;\n",
              "      display: none;\n",
              "      fill: #1967D2;\n",
              "      height: 32px;\n",
              "      padding: 0 0 0 0;\n",
              "      width: 32px;\n",
              "    }\n",
              "\n",
              "    .colab-df-convert:hover {\n",
              "      background-color: #E2EBFA;\n",
              "      box-shadow: 0px 1px 2px rgba(60, 64, 67, 0.3), 0px 1px 3px 1px rgba(60, 64, 67, 0.15);\n",
              "      fill: #174EA6;\n",
              "    }\n",
              "\n",
              "    [theme=dark] .colab-df-convert {\n",
              "      background-color: #3B4455;\n",
              "      fill: #D2E3FC;\n",
              "    }\n",
              "\n",
              "    [theme=dark] .colab-df-convert:hover {\n",
              "      background-color: #434B5C;\n",
              "      box-shadow: 0px 1px 3px 1px rgba(0, 0, 0, 0.15);\n",
              "      filter: drop-shadow(0px 1px 2px rgba(0, 0, 0, 0.3));\n",
              "      fill: #FFFFFF;\n",
              "    }\n",
              "  </style>\n",
              "\n",
              "      <script>\n",
              "        const buttonEl =\n",
              "          document.querySelector('#df-c5bd15f3-17ca-4370-a3a5-8f49d4f30dc2 button.colab-df-convert');\n",
              "        buttonEl.style.display =\n",
              "          google.colab.kernel.accessAllowed ? 'block' : 'none';\n",
              "\n",
              "        async function convertToInteractive(key) {\n",
              "          const element = document.querySelector('#df-c5bd15f3-17ca-4370-a3a5-8f49d4f30dc2');\n",
              "          const dataTable =\n",
              "            await google.colab.kernel.invokeFunction('convertToInteractive',\n",
              "                                                     [key], {});\n",
              "          if (!dataTable) return;\n",
              "\n",
              "          const docLinkHtml = 'Like what you see? Visit the ' +\n",
              "            '<a target=\"_blank\" href=https://colab.research.google.com/notebooks/data_table.ipynb>data table notebook</a>'\n",
              "            + ' to learn more about interactive tables.';\n",
              "          element.innerHTML = '';\n",
              "          dataTable['output_type'] = 'display_data';\n",
              "          await google.colab.output.renderOutput(dataTable, element);\n",
              "          const docLink = document.createElement('div');\n",
              "          docLink.innerHTML = docLinkHtml;\n",
              "          element.appendChild(docLink);\n",
              "        }\n",
              "      </script>\n",
              "    </div>\n",
              "  </div>\n",
              "  "
            ]
          },
          "metadata": {},
          "execution_count": 322
        }
      ]
    },
    {
      "cell_type": "code",
      "source": [
        "df['country'].describe() #Descriptive Statistics for the country variable"
      ],
      "metadata": {
        "colab": {
          "base_uri": "https://localhost:8080/"
        },
        "id": "lo1c3srLhJFe",
        "outputId": "105ad047-36db-466b-b294-8cf05ba54265"
      },
      "execution_count": 387,
      "outputs": [
        {
          "output_type": "execute_result",
          "data": {
            "text/plain": [
              "count         113\n",
              "unique        113\n",
              "top       Country\n",
              "freq            1\n",
              "Name: country, dtype: object"
            ]
          },
          "metadata": {},
          "execution_count": 387
        }
      ]
    },
    {
      "cell_type": "code",
      "source": [
        "df['Headcount (%)'].describe() #Descriptive Statistics for the Headcount Ration"
      ],
      "metadata": {
        "colab": {
          "base_uri": "https://localhost:8080/"
        },
        "id": "JCqOmv6ph3gd",
        "outputId": "0deebfaf-f42b-4a41-c3b9-e2f35d6cf143"
      },
      "execution_count": 388,
      "outputs": [
        {
          "output_type": "execute_result",
          "data": {
            "text/plain": [
              "count     112\n",
              "unique    112\n",
              "top       (%)\n",
              "freq        1\n",
              "Name: Headcount (%), dtype: object"
            ]
          },
          "metadata": {},
          "execution_count": 388
        }
      ]
    },
    {
      "cell_type": "code",
      "source": [
        "df['Contribution of Standard of Living in MPI (%)'].describe() ##Descriptive Statistics for the \"Contribution of Standard of Living in MPI (%)\" variable"
      ],
      "metadata": {
        "colab": {
          "base_uri": "https://localhost:8080/"
        },
        "id": "Uvh_ZbP4iiBU",
        "outputId": "df07d924-6d36-4f3d-9e46-fd91a2ebcff7"
      },
      "execution_count": 389,
      "outputs": [
        {
          "output_type": "execute_result",
          "data": {
            "text/plain": [
              "count    111.000000\n",
              "mean      37.471669\n",
              "std       16.192236\n",
              "min        1.058382\n",
              "25%       26.333341\n",
              "50%       41.112393\n",
              "75%       49.818836\n",
              "max       65.336499\n",
              "Name: Contribution of Standard of Living in MPI (%), dtype: float64"
            ]
          },
          "metadata": {},
          "execution_count": 389
        }
      ]
    },
    {
      "cell_type": "markdown",
      "source": [
        "On average \"Standard of Living\" contibuted to 37% deprivation to overall multidimensional poverty across the selected countries."
      ],
      "metadata": {
        "id": "3x9YVPJTjsgU"
      }
    },
    {
      "cell_type": "code",
      "source": [
        "df['Contribution of Education in MPI (%)'].describe() ##Descriptive Statistics for the \"Contribution of Education in MPI (%)\" variable\n",
        "\n",
        "#Contribution of Education in MPI (%)"
      ],
      "metadata": {
        "colab": {
          "base_uri": "https://localhost:8080/"
        },
        "id": "hcunLgsijFLF",
        "outputId": "b44272f1-5866-466c-baeb-a44a4e03c14f"
      },
      "execution_count": 390,
      "outputs": [
        {
          "output_type": "execute_result",
          "data": {
            "text/plain": [
              "count    111.000000\n",
              "mean      31.383064\n",
              "std       11.881821\n",
              "min        0.660957\n",
              "25%       23.456622\n",
              "50%       31.491717\n",
              "75%       39.614716\n",
              "max       61.568220\n",
              "Name: Contribution of Education in MPI (%), dtype: float64"
            ]
          },
          "metadata": {},
          "execution_count": 390
        }
      ]
    },
    {
      "cell_type": "markdown",
      "source": [
        "On average \"Education\" contibuted to 31% deprivation to overall multidimensional poverty across the selected countries."
      ],
      "metadata": {
        "id": "oETEw3qlkqlP"
      }
    },
    {
      "cell_type": "code",
      "source": [
        "df['Contribution of Education in MPI (%)'].quantile(q=0.50)"
      ],
      "metadata": {
        "colab": {
          "base_uri": "https://localhost:8080/"
        },
        "id": "6vkmbNSTlC2I",
        "outputId": "964a88da-d2a0-47d5-f217-498524d70d59"
      },
      "execution_count": 392,
      "outputs": [
        {
          "output_type": "execute_result",
          "data": {
            "text/plain": [
              "31.491717"
            ]
          },
          "metadata": {},
          "execution_count": 392
        }
      ]
    },
    {
      "cell_type": "markdown",
      "source": [
        "The median value for 'Contribution of Education in MPI (%)' is 31.5% ."
      ],
      "metadata": {
        "id": "X8BTdBU2lJF2"
      }
    },
    {
      "cell_type": "code",
      "source": [
        "df[\"Contribution of Education in MPI (%)\"].hist()  "
      ],
      "metadata": {
        "colab": {
          "base_uri": "https://localhost:8080/",
          "height": 283
        },
        "id": "YpezsiqVlYF_",
        "outputId": "18c4dd43-a550-49be-ae78-1e5721d5f4e7"
      },
      "execution_count": 397,
      "outputs": [
        {
          "output_type": "execute_result",
          "data": {
            "text/plain": [
              "<matplotlib.axes._subplots.AxesSubplot at 0x7f41307f2fa0>"
            ]
          },
          "metadata": {},
          "execution_count": 397
        },
        {
          "output_type": "display_data",
          "data": {
            "text/plain": [
              "<Figure size 432x288 with 1 Axes>"
            ],
            "image/png": "[encoded data removed]"
          },
          "metadata": {
            "needs_background": "light"
          }
        }
      ]
    },
    {
      "cell_type": "markdown",
      "source": [
        "The highest contribution od education in multidimensional deprivation is between 30% to 40% among the countries around the world."
      ],
      "metadata": {
        "id": "xe8dS90HpcvX"
      }
    }
  ]
}